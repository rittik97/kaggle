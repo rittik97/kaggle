{
 "cells": [
  {
   "cell_type": "markdown",
   "metadata": {},
   "source": [
    "# Fun with Neural Nets\n",
    "\n",
    "---"
   ]
  },
  {
   "cell_type": "markdown",
   "metadata": {},
   "source": [
    "Below is a procedure for building a neural network to recognize handwritten digits.  The data is from Kaggle, and you will submit your results to Kaggle to test how well you did!\n",
    "\n",
    "1. Load the training data (`train.csv`) from Kaggle\n",
    "2. Setup X and y (feature matrix and target vector)\n",
    "3. Split X and y into train and test subsets.\n",
    "4. Preprocess your data\n",
    "\n",
    "   - When dealing with image data, you need to normalize your `X` by dividing each value by the max value of a pixel (255).\n",
    "   - Since this is a multiclass classification problem, keras needs `y` to be a one-hot encoded matrix\n",
    "   \n",
    "5. Create your network.\n",
    "\n",
    "   - Remember that for multi-class classification you need a softamx activation function on the output layer.\n",
    "   - You may want to consider using regularization or dropout to improve performance.\n",
    "   \n",
    "6. Trian your network.\n",
    "7. If you are unhappy with your model performance, try to tighten up your model by adding hidden layers, adding hidden layer units, chaning the activation functions on the hidden layers, etc.\n",
    "8. Load in Kaggle's `test.csv`\n",
    "9. Create your predictions (these should be numbers in the range 0-9).\n",
    "10. Save your predictions and submit them to Kaggle."
   ]
  },
  {
   "cell_type": "markdown",
   "metadata": {},
   "source": [
    "---\n",
    "\n",
    "For this lab, you should complete the above sequence of steps for _at least_ two of the three \"configurations\":\n",
    "\n",
    "1. Using a `tensorflow` network\n",
    "2. Using a `keras` \"sequential\" network\n",
    "3. Using a `keras` convolutional network\n",
    "4. Using a `tensorflow` convolutional network (we did _not_ cover this in class!)"
   ]
  },
  {
   "cell_type": "code",
   "execution_count": 1,
   "metadata": {},
   "outputs": [],
   "source": [
    "import pandas as pd\n",
    "import numpy as np\n",
    "import matplotlib.pyplot as plt"
   ]
  },
  {
   "cell_type": "code",
   "execution_count": 117,
   "metadata": {},
   "outputs": [],
   "source": [
    "from tensorflow.keras.models import Sequential\n",
    "from tensorflow.keras.layers import Dense, Dropout, Activation, Flatten, Input\n",
    "from tensorflow.keras.layers import Conv2D, MaxPooling2D\n",
    "from tensorflow.keras.utils import to_categorical\n",
    "from tensorflow.keras.callbacks import EarlyStopping\n",
    "from tensorflow.keras.layers import Dropout"
   ]
  },
  {
   "cell_type": "code",
   "execution_count": 21,
   "metadata": {},
   "outputs": [],
   "source": [
    "from sklearn.model_selection import train_test_split\n",
    "from sklearn.preprocessing import MinMaxScaler\n",
    "from sklearn.preprocessing import LabelBinarizer"
   ]
  },
  {
   "cell_type": "code",
   "execution_count": 5,
   "metadata": {},
   "outputs": [],
   "source": [
    "data=pd.read_csv(\"train.csv\")"
   ]
  },
  {
   "cell_type": "code",
   "execution_count": 8,
   "metadata": {},
   "outputs": [],
   "source": [
    "target='label'\n",
    "y=data[target]\n",
    "X=data.drop(target, axis=1)"
   ]
  },
  {
   "cell_type": "code",
   "execution_count": 11,
   "metadata": {},
   "outputs": [],
   "source": [
    "X_train, X_test, y_train, y_test = train_test_split(X, y, test_size=0.15, random_state=117)"
   ]
  },
  {
   "cell_type": "code",
   "execution_count": 12,
   "metadata": {},
   "outputs": [
    {
     "data": {
      "text/html": [
       "<div>\n",
       "<style scoped>\n",
       "    .dataframe tbody tr th:only-of-type {\n",
       "        vertical-align: middle;\n",
       "    }\n",
       "\n",
       "    .dataframe tbody tr th {\n",
       "        vertical-align: top;\n",
       "    }\n",
       "\n",
       "    .dataframe thead th {\n",
       "        text-align: right;\n",
       "    }\n",
       "</style>\n",
       "<table border=\"1\" class=\"dataframe\">\n",
       "  <thead>\n",
       "    <tr style=\"text-align: right;\">\n",
       "      <th></th>\n",
       "      <th>pixel0</th>\n",
       "      <th>pixel1</th>\n",
       "      <th>pixel2</th>\n",
       "      <th>pixel3</th>\n",
       "      <th>pixel4</th>\n",
       "      <th>pixel5</th>\n",
       "      <th>pixel6</th>\n",
       "      <th>pixel7</th>\n",
       "      <th>pixel8</th>\n",
       "      <th>pixel9</th>\n",
       "      <th>...</th>\n",
       "      <th>pixel774</th>\n",
       "      <th>pixel775</th>\n",
       "      <th>pixel776</th>\n",
       "      <th>pixel777</th>\n",
       "      <th>pixel778</th>\n",
       "      <th>pixel779</th>\n",
       "      <th>pixel780</th>\n",
       "      <th>pixel781</th>\n",
       "      <th>pixel782</th>\n",
       "      <th>pixel783</th>\n",
       "    </tr>\n",
       "  </thead>\n",
       "  <tbody>\n",
       "    <tr>\n",
       "      <th>28097</th>\n",
       "      <td>0</td>\n",
       "      <td>0</td>\n",
       "      <td>0</td>\n",
       "      <td>0</td>\n",
       "      <td>0</td>\n",
       "      <td>0</td>\n",
       "      <td>0</td>\n",
       "      <td>0</td>\n",
       "      <td>0</td>\n",
       "      <td>0</td>\n",
       "      <td>...</td>\n",
       "      <td>0</td>\n",
       "      <td>0</td>\n",
       "      <td>0</td>\n",
       "      <td>0</td>\n",
       "      <td>0</td>\n",
       "      <td>0</td>\n",
       "      <td>0</td>\n",
       "      <td>0</td>\n",
       "      <td>0</td>\n",
       "      <td>0</td>\n",
       "    </tr>\n",
       "    <tr>\n",
       "      <th>26506</th>\n",
       "      <td>0</td>\n",
       "      <td>0</td>\n",
       "      <td>0</td>\n",
       "      <td>0</td>\n",
       "      <td>0</td>\n",
       "      <td>0</td>\n",
       "      <td>0</td>\n",
       "      <td>0</td>\n",
       "      <td>0</td>\n",
       "      <td>0</td>\n",
       "      <td>...</td>\n",
       "      <td>0</td>\n",
       "      <td>0</td>\n",
       "      <td>0</td>\n",
       "      <td>0</td>\n",
       "      <td>0</td>\n",
       "      <td>0</td>\n",
       "      <td>0</td>\n",
       "      <td>0</td>\n",
       "      <td>0</td>\n",
       "      <td>0</td>\n",
       "    </tr>\n",
       "    <tr>\n",
       "      <th>5049</th>\n",
       "      <td>0</td>\n",
       "      <td>0</td>\n",
       "      <td>0</td>\n",
       "      <td>0</td>\n",
       "      <td>0</td>\n",
       "      <td>0</td>\n",
       "      <td>0</td>\n",
       "      <td>0</td>\n",
       "      <td>0</td>\n",
       "      <td>0</td>\n",
       "      <td>...</td>\n",
       "      <td>0</td>\n",
       "      <td>0</td>\n",
       "      <td>0</td>\n",
       "      <td>0</td>\n",
       "      <td>0</td>\n",
       "      <td>0</td>\n",
       "      <td>0</td>\n",
       "      <td>0</td>\n",
       "      <td>0</td>\n",
       "      <td>0</td>\n",
       "    </tr>\n",
       "    <tr>\n",
       "      <th>12423</th>\n",
       "      <td>0</td>\n",
       "      <td>0</td>\n",
       "      <td>0</td>\n",
       "      <td>0</td>\n",
       "      <td>0</td>\n",
       "      <td>0</td>\n",
       "      <td>0</td>\n",
       "      <td>0</td>\n",
       "      <td>0</td>\n",
       "      <td>0</td>\n",
       "      <td>...</td>\n",
       "      <td>0</td>\n",
       "      <td>0</td>\n",
       "      <td>0</td>\n",
       "      <td>0</td>\n",
       "      <td>0</td>\n",
       "      <td>0</td>\n",
       "      <td>0</td>\n",
       "      <td>0</td>\n",
       "      <td>0</td>\n",
       "      <td>0</td>\n",
       "    </tr>\n",
       "    <tr>\n",
       "      <th>17251</th>\n",
       "      <td>0</td>\n",
       "      <td>0</td>\n",
       "      <td>0</td>\n",
       "      <td>0</td>\n",
       "      <td>0</td>\n",
       "      <td>0</td>\n",
       "      <td>0</td>\n",
       "      <td>0</td>\n",
       "      <td>0</td>\n",
       "      <td>0</td>\n",
       "      <td>...</td>\n",
       "      <td>0</td>\n",
       "      <td>0</td>\n",
       "      <td>0</td>\n",
       "      <td>0</td>\n",
       "      <td>0</td>\n",
       "      <td>0</td>\n",
       "      <td>0</td>\n",
       "      <td>0</td>\n",
       "      <td>0</td>\n",
       "      <td>0</td>\n",
       "    </tr>\n",
       "  </tbody>\n",
       "</table>\n",
       "<p>5 rows × 784 columns</p>\n",
       "</div>"
      ],
      "text/plain": [
       "       pixel0  pixel1  pixel2  pixel3  pixel4  pixel5  pixel6  pixel7  pixel8  \\\n",
       "28097       0       0       0       0       0       0       0       0       0   \n",
       "26506       0       0       0       0       0       0       0       0       0   \n",
       "5049        0       0       0       0       0       0       0       0       0   \n",
       "12423       0       0       0       0       0       0       0       0       0   \n",
       "17251       0       0       0       0       0       0       0       0       0   \n",
       "\n",
       "       pixel9  ...  pixel774  pixel775  pixel776  pixel777  pixel778  \\\n",
       "28097       0  ...         0         0         0         0         0   \n",
       "26506       0  ...         0         0         0         0         0   \n",
       "5049        0  ...         0         0         0         0         0   \n",
       "12423       0  ...         0         0         0         0         0   \n",
       "17251       0  ...         0         0         0         0         0   \n",
       "\n",
       "       pixel779  pixel780  pixel781  pixel782  pixel783  \n",
       "28097         0         0         0         0         0  \n",
       "26506         0         0         0         0         0  \n",
       "5049          0         0         0         0         0  \n",
       "12423         0         0         0         0         0  \n",
       "17251         0         0         0         0         0  \n",
       "\n",
       "[5 rows x 784 columns]"
      ]
     },
     "execution_count": 12,
     "metadata": {},
     "output_type": "execute_result"
    }
   ],
   "source": [
    "X_train.head()"
   ]
  },
  {
   "cell_type": "code",
   "execution_count": 14,
   "metadata": {},
   "outputs": [],
   "source": [
    "scaler = MinMaxScaler()\n",
    "X_train = scaler.fit_transform(X_train)\n",
    "X_test = scaler.transform(X_test)\n",
    "X_train = X_train.astype('float32')\n",
    "X_test = X_test.astype('float32')"
   ]
  },
  {
   "cell_type": "code",
   "execution_count": 19,
   "metadata": {},
   "outputs": [],
   "source": [
    "X_train = X_train.reshape(X_train.shape[0], 28, 28, 1)\n",
    "X_test = X_test.reshape(X_test.shape[0], 28, 28, 1)"
   ]
  },
  {
   "cell_type": "code",
   "execution_count": 24,
   "metadata": {},
   "outputs": [],
   "source": [
    "lb=LabelBinarizer()\n",
    "\n",
    "y_train=lb.fit_transform(y_train)\n",
    "y_test=lb.transform(y_test)"
   ]
  },
  {
   "cell_type": "code",
   "execution_count": 67,
   "metadata": {},
   "outputs": [
    {
     "data": {
      "text/plain": [
       "array([[0, 0, 0, 0, 0, 0, 0, 0, 0, 1]])"
      ]
     },
     "execution_count": 67,
     "metadata": {},
     "output_type": "execute_result"
    }
   ],
   "source": [
    "lb.inverse_transform(y_train[[0]])"
   ]
  },
  {
   "cell_type": "code",
   "execution_count": 159,
   "metadata": {},
   "outputs": [
    {
     "data": {
      "text/plain": [
       "numpy.ndarray"
      ]
     },
     "execution_count": 159,
     "metadata": {},
     "output_type": "execute_result"
    }
   ],
   "source": [
    "type(X_train)"
   ]
  },
  {
   "cell_type": "code",
   "execution_count": 41,
   "metadata": {},
   "outputs": [
    {
     "data": {
      "text/plain": [
       "<matplotlib.image.AxesImage at 0x12faf4978>"
      ]
     },
     "execution_count": 41,
     "metadata": {},
     "output_type": "execute_result"
    },
    {
     "data": {
      "image/png": "[encoded data removed]",
      "text/plain": [
       "<Figure size 432x288 with 1 Axes>"
      ]
     },
     "metadata": {
      "needs_background": "light"
     },
     "output_type": "display_data"
    }
   ],
   "source": [
    "plt.imshow(X_train[0].reshape(28,28), cmap=\"Greys\")"
   ]
  },
  {
   "cell_type": "markdown",
   "metadata": {},
   "source": [
    "<h1> Sequential Dense Model</h1>"
   ]
  },
  {
   "cell_type": "code",
   "execution_count": 112,
   "metadata": {},
   "outputs": [],
   "source": [
    "model = Sequential()\n",
    "model.add(Flatten())\n",
    "model.add(Dense(128, input_shape=(28, 28), activation='relu'))\n",
    "model.add(Dense(32, activation='relu'))\n",
    "model.add(Dense(10, activation='softmax'))"
   ]
  },
  {
   "cell_type": "code",
   "execution_count": 113,
   "metadata": {},
   "outputs": [],
   "source": [
    "model.compile(loss='categorical_crossentropy',\n",
    "              optimizer='adam',\n",
    "              metrics=['accuracy'])"
   ]
  },
  {
   "cell_type": "code",
   "execution_count": 114,
   "metadata": {},
   "outputs": [
    {
     "name": "stdout",
     "output_type": "stream",
     "text": [
      "Train on 35700 samples, validate on 6300 samples\n",
      "Epoch 1/15\n",
      "35700/35700 [==============================] - 1s 24us/sample - loss: 0.5825 - accuracy: 0.8400 - val_loss: 0.2702 - val_accuracy: 0.9241\n",
      "Epoch 2/15\n",
      "35700/35700 [==============================] - 0s 13us/sample - loss: 0.2152 - accuracy: 0.9400 - val_loss: 0.2013 - val_accuracy: 0.9424\n",
      "Epoch 3/15\n",
      "35700/35700 [==============================] - 0s 12us/sample - loss: 0.1605 - accuracy: 0.9542 - val_loss: 0.1657 - val_accuracy: 0.9514\n",
      "Epoch 4/15\n",
      "35700/35700 [==============================] - 0s 14us/sample - loss: 0.1248 - accuracy: 0.9645 - val_loss: 0.1477 - val_accuracy: 0.9587\n",
      "Epoch 5/15\n",
      "35700/35700 [==============================] - 1s 15us/sample - loss: 0.1018 - accuracy: 0.9711 - val_loss: 0.1368 - val_accuracy: 0.9608\n",
      "Epoch 6/15\n",
      "35700/35700 [==============================] - 0s 13us/sample - loss: 0.0862 - accuracy: 0.9756 - val_loss: 0.1229 - val_accuracy: 0.9644\n",
      "Epoch 7/15\n",
      "35700/35700 [==============================] - 0s 13us/sample - loss: 0.0714 - accuracy: 0.9794 - val_loss: 0.1220 - val_accuracy: 0.9673\n",
      "Epoch 8/15\n",
      "35700/35700 [==============================] - 0s 14us/sample - loss: 0.0621 - accuracy: 0.9819 - val_loss: 0.1220 - val_accuracy: 0.9670\n",
      "Epoch 9/15\n",
      "35700/35700 [==============================] - 0s 13us/sample - loss: 0.0527 - accuracy: 0.9850 - val_loss: 0.1167 - val_accuracy: 0.9675\n",
      "Epoch 10/15\n",
      "35700/35700 [==============================] - 1s 14us/sample - loss: 0.0452 - accuracy: 0.9878 - val_loss: 0.1131 - val_accuracy: 0.9686\n",
      "Epoch 11/15\n",
      "35700/35700 [==============================] - 1s 16us/sample - loss: 0.0414 - accuracy: 0.9885 - val_loss: 0.1092 - val_accuracy: 0.9690\n",
      "Epoch 12/15\n",
      "35700/35700 [==============================] - 1s 15us/sample - loss: 0.0328 - accuracy: 0.9915 - val_loss: 0.1183 - val_accuracy: 0.9665\n",
      "Epoch 13/15\n",
      "35700/35700 [==============================] - 1s 19us/sample - loss: 0.0290 - accuracy: 0.9934 - val_loss: 0.1158 - val_accuracy: 0.9692\n",
      "Epoch 14/15\n",
      "35700/35700 [==============================] - 1s 15us/sample - loss: 0.0247 - accuracy: 0.9941 - val_loss: 0.1062 - val_accuracy: 0.9722\n",
      "Epoch 15/15\n",
      "35700/35700 [==============================] - 1s 17us/sample - loss: 0.0203 - accuracy: 0.9956 - val_loss: 0.1101 - val_accuracy: 0.9714\n"
     ]
    }
   ],
   "source": [
    "history = model.fit( X_train,\n",
    "                    y_train, \n",
    "                    batch_size=256,\n",
    "                    validation_data=(X_test, y_test),\n",
    "            \n",
    "                    epochs=15,\n",
    "                    verbose=1)"
   ]
  },
  {
   "cell_type": "code",
   "execution_count": 46,
   "metadata": {},
   "outputs": [
    {
     "name": "stdout",
     "output_type": "stream",
     "text": [
      "Model: \"sequential\"\n",
      "_________________________________________________________________\n",
      "Layer (type)                 Output Shape              Param #   \n",
      "=================================================================\n",
      "flatten (Flatten)            multiple                  0         \n",
      "_________________________________________________________________\n",
      "dense (Dense)                multiple                  100480    \n",
      "_________________________________________________________________\n",
      "dense_1 (Dense)              multiple                  4128      \n",
      "_________________________________________________________________\n",
      "dense_2 (Dense)              multiple                  330       \n",
      "=================================================================\n",
      "Total params: 104,938\n",
      "Trainable params: 104,938\n",
      "Non-trainable params: 0\n",
      "_________________________________________________________________\n"
     ]
    }
   ],
   "source": [
    "model.summary()"
   ]
  },
  {
   "cell_type": "code",
   "execution_count": 116,
   "metadata": {},
   "outputs": [
    {
     "data": {
      "text/plain": [
       "<matplotlib.legend.Legend at 0x12fe67dd8>"
      ]
     },
     "execution_count": 116,
     "metadata": {},
     "output_type": "execute_result"
    },
    {
     "data": {
      "image/png": "[encoded data removed]",
      "text/plain": [
       "<Figure size 432x288 with 1 Axes>"
      ]
     },
     "metadata": {
      "needs_background": "light"
     },
     "output_type": "display_data"
    }
   ],
   "source": [
    "plt.plot(history.history['val_accuracy'], label='val')\n",
    "plt.plot(history.history['accuracy'], label='train')\n",
    "plt.legend()"
   ]
  },
  {
   "cell_type": "code",
   "execution_count": 115,
   "metadata": {},
   "outputs": [
    {
     "name": "stdout",
     "output_type": "stream",
     "text": [
      "Train on 35700 samples, validate on 6300 samples\n",
      "Epoch 1/35\n",
      "35700/35700 [==============================] - 1s 14us/sample - loss: 0.0170 - accuracy: 0.9965 - val_loss: 0.1154 - val_accuracy: 0.9713\n",
      "Epoch 2/35\n",
      "35700/35700 [==============================] - 1s 17us/sample - loss: 0.0167 - accuracy: 0.9964 - val_loss: 0.1173 - val_accuracy: 0.9698\n",
      "Epoch 3/35\n",
      "35700/35700 [==============================] - 1s 28us/sample - loss: 0.0133 - accuracy: 0.9977 - val_loss: 0.1164 - val_accuracy: 0.9702\n",
      "Epoch 4/35\n",
      "35700/35700 [==============================] - 1s 31us/sample - loss: 0.0114 - accuracy: 0.9982 - val_loss: 0.1165 - val_accuracy: 0.9706\n",
      "Epoch 5/35\n",
      "35700/35700 [==============================] - 1s 19us/sample - loss: 0.0102 - accuracy: 0.9982 - val_loss: 0.1183 - val_accuracy: 0.9713\n",
      "Epoch 6/35\n",
      "35700/35700 [==============================] - 1s 19us/sample - loss: 0.0078 - accuracy: 0.9990 - val_loss: 0.1231 - val_accuracy: 0.9708\n",
      "Epoch 7/35\n",
      "35700/35700 [==============================] - 1s 17us/sample - loss: 0.0070 - accuracy: 0.9992 - val_loss: 0.1253 - val_accuracy: 0.9714\n",
      "Epoch 8/35\n",
      "35700/35700 [==============================] - 1s 18us/sample - loss: 0.0056 - accuracy: 0.9995 - val_loss: 0.1199 - val_accuracy: 0.9733\n",
      "Epoch 9/35\n",
      "35700/35700 [==============================] - 1s 18us/sample - loss: 0.0043 - accuracy: 0.9997 - val_loss: 0.1287 - val_accuracy: 0.9719\n",
      "Epoch 10/35\n",
      "35700/35700 [==============================] - 1s 19us/sample - loss: 0.0037 - accuracy: 0.9997 - val_loss: 0.1252 - val_accuracy: 0.9737\n",
      "Epoch 11/35\n",
      "35700/35700 [==============================] - 1s 18us/sample - loss: 0.0029 - accuracy: 1.0000 - val_loss: 0.1282 - val_accuracy: 0.9737\n",
      "Epoch 12/35\n",
      "35700/35700 [==============================] - 1s 18us/sample - loss: 0.0036 - accuracy: 0.9997 - val_loss: 0.1362 - val_accuracy: 0.9732\n",
      "Epoch 13/35\n",
      "35700/35700 [==============================] - 1s 18us/sample - loss: 0.0034 - accuracy: 0.9998 - val_loss: 0.1471 - val_accuracy: 0.9703\n",
      "Epoch 14/35\n",
      "35700/35700 [==============================] - 1s 19us/sample - loss: 0.0033 - accuracy: 0.9996 - val_loss: 0.1406 - val_accuracy: 0.9713\n",
      "Epoch 15/35\n",
      "35700/35700 [==============================] - 1s 19us/sample - loss: 0.0168 - accuracy: 0.9942 - val_loss: 0.1589 - val_accuracy: 0.9697\n",
      "Epoch 16/35\n",
      "35700/35700 [==============================] - 1s 21us/sample - loss: 0.0087 - accuracy: 0.9976 - val_loss: 0.1562 - val_accuracy: 0.9678\n",
      "Epoch 17/35\n",
      "35700/35700 [==============================] - 1s 20us/sample - loss: 0.0033 - accuracy: 0.9997 - val_loss: 0.1472 - val_accuracy: 0.9711\n",
      "Epoch 18/35\n",
      "35700/35700 [==============================] - 1s 18us/sample - loss: 0.0020 - accuracy: 0.9999 - val_loss: 0.1479 - val_accuracy: 0.9716\n",
      "Epoch 19/35\n",
      "35700/35700 [==============================] - 1s 19us/sample - loss: 0.0011 - accuracy: 1.0000 - val_loss: 0.1467 - val_accuracy: 0.9729\n",
      "Epoch 20/35\n",
      "35700/35700 [==============================] - 1s 20us/sample - loss: 8.8484e-04 - accuracy: 1.0000 - val_loss: 0.1455 - val_accuracy: 0.9729\n",
      "Epoch 21/35\n",
      "35700/35700 [==============================] - 1s 19us/sample - loss: 7.4840e-04 - accuracy: 1.0000 - val_loss: 0.1467 - val_accuracy: 0.9727\n",
      "Epoch 22/35\n",
      "35700/35700 [==============================] - 1s 34us/sample - loss: 6.7715e-04 - accuracy: 1.0000 - val_loss: 0.1479 - val_accuracy: 0.9724\n",
      "Epoch 23/35\n",
      "35700/35700 [==============================] - 1s 29us/sample - loss: 6.2081e-04 - accuracy: 1.0000 - val_loss: 0.1508 - val_accuracy: 0.9729\n",
      "Epoch 24/35\n",
      "35700/35700 [==============================] - 1s 20us/sample - loss: 5.7370e-04 - accuracy: 1.0000 - val_loss: 0.1503 - val_accuracy: 0.9721\n",
      "Epoch 25/35\n",
      "35700/35700 [==============================] - 1s 17us/sample - loss: 0.0020 - accuracy: 0.9996 - val_loss: 0.1656 - val_accuracy: 0.9705\n",
      "Epoch 26/35\n",
      "35700/35700 [==============================] - 1s 15us/sample - loss: 0.0168 - accuracy: 0.9944 - val_loss: 0.1733 - val_accuracy: 0.9670\n",
      "Epoch 27/35\n",
      "35700/35700 [==============================] - 0s 13us/sample - loss: 0.0115 - accuracy: 0.9962 - val_loss: 0.1650 - val_accuracy: 0.9700\n",
      "Epoch 28/35\n",
      "35700/35700 [==============================] - 0s 14us/sample - loss: 0.0051 - accuracy: 0.9987 - val_loss: 0.1664 - val_accuracy: 0.9705\n",
      "Epoch 29/35\n",
      "35700/35700 [==============================] - 0s 13us/sample - loss: 0.0029 - accuracy: 0.9994 - val_loss: 0.1702 - val_accuracy: 0.9686\n",
      "Epoch 30/35\n",
      "35700/35700 [==============================] - 0s 13us/sample - loss: 7.6522e-04 - accuracy: 1.0000 - val_loss: 0.1641 - val_accuracy: 0.9713\n",
      "Epoch 31/35\n",
      "35700/35700 [==============================] - 0s 13us/sample - loss: 4.4374e-04 - accuracy: 1.0000 - val_loss: 0.1644 - val_accuracy: 0.9719\n",
      "Epoch 32/35\n",
      "35700/35700 [==============================] - 0s 13us/sample - loss: 3.7334e-04 - accuracy: 1.0000 - val_loss: 0.1648 - val_accuracy: 0.9719\n",
      "Epoch 33/35\n",
      "35700/35700 [==============================] - 1s 15us/sample - loss: 3.3018e-04 - accuracy: 1.0000 - val_loss: 0.1643 - val_accuracy: 0.9716\n",
      "Epoch 34/35\n",
      "35700/35700 [==============================] - 1s 15us/sample - loss: 2.9781e-04 - accuracy: 1.0000 - val_loss: 0.1672 - val_accuracy: 0.9714\n",
      "Epoch 35/35\n",
      "35700/35700 [==============================] - 1s 16us/sample - loss: 2.7428e-04 - accuracy: 1.0000 - val_loss: 0.1675 - val_accuracy: 0.9721\n"
     ]
    }
   ],
   "source": [
    "history = model.fit( X_train,\n",
    "                    y_train, \n",
    "                    batch_size=256,\n",
    "                    validation_data=(X_test, y_test),\n",
    "                    epochs=35,\n",
    "                    verbose=1)"
   ]
  },
  {
   "cell_type": "markdown",
   "metadata": {},
   "source": [
    "<h1> Dropout model</h1>"
   ]
  },
  {
   "cell_type": "code",
   "execution_count": 106,
   "metadata": {},
   "outputs": [],
   "source": [
    "model_dropout = Sequential()\n",
    "model_dropout.add(Flatten())\n",
    "model_dropout.add(Dense(128, input_shape=(28, 28), activation='relu'))\n",
    "model_dropout.add(Dropout(0.2))\n",
    "model_dropout.add(Dense(32, activation='relu'))\n",
    "model_dropout.add(Dropout(0.2))\n",
    "model_dropout.add(Dense(16, activation='relu'))\n",
    "model_dropout.add(Dropout(0.2))\n",
    "model_dropout.add(Dense(10, activation='softmax'))"
   ]
  },
  {
   "cell_type": "code",
   "execution_count": 107,
   "metadata": {},
   "outputs": [],
   "source": [
    "model_dropout.compile(loss='categorical_crossentropy',\n",
    "              optimizer='adam',\n",
    "              metrics=['accuracy'])"
   ]
  },
  {
   "cell_type": "code",
   "execution_count": 108,
   "metadata": {},
   "outputs": [],
   "source": [
    "hist2 = model_dropout.fit( X_train,\n",
    "                    y_train, \n",
    "                    batch_size=256,\n",
    "                    validation_data=(X_test, y_test),\n",
    "                    epochs=15,\n",
    "                    verbose=0)"
   ]
  },
  {
   "cell_type": "code",
   "execution_count": 109,
   "metadata": {},
   "outputs": [
    {
     "name": "stdout",
     "output_type": "stream",
     "text": [
      "Model: \"sequential_4\"\n",
      "_________________________________________________________________\n",
      "Layer (type)                 Output Shape              Param #   \n",
      "=================================================================\n",
      "flatten_4 (Flatten)          multiple                  0         \n",
      "_________________________________________________________________\n",
      "dense_8 (Dense)              multiple                  100480    \n",
      "_________________________________________________________________\n",
      "dropout_2 (Dropout)          multiple                  0         \n",
      "_________________________________________________________________\n",
      "dense_9 (Dense)              multiple                  4128      \n",
      "_________________________________________________________________\n",
      "dropout_3 (Dropout)          multiple                  0         \n",
      "_________________________________________________________________\n",
      "dense_10 (Dense)             multiple                  528       \n",
      "_________________________________________________________________\n",
      "dropout_4 (Dropout)          multiple                  0         \n",
      "_________________________________________________________________\n",
      "dense_11 (Dense)             multiple                  170       \n",
      "=================================================================\n",
      "Total params: 105,306\n",
      "Trainable params: 105,306\n",
      "Non-trainable params: 0\n",
      "_________________________________________________________________\n"
     ]
    }
   ],
   "source": [
    "model_dropout.summary()"
   ]
  },
  {
   "cell_type": "code",
   "execution_count": 149,
   "metadata": {},
   "outputs": [
    {
     "data": {
      "text/plain": [
       "<matplotlib.legend.Legend at 0x12f079a20>"
      ]
     },
     "execution_count": 149,
     "metadata": {},
     "output_type": "execute_result"
    },
    {
     "data": {
      "image/png": "[encoded data removed]",
      "text/plain": [
       "<Figure size 432x288 with 1 Axes>"
      ]
     },
     "metadata": {
      "needs_background": "light"
     },
     "output_type": "display_data"
    }
   ],
   "source": [
    "plt.plot(hist2.history['val_accuracy'], label='val')\n",
    "plt.plot(hist2.history['accuracy'], label='train')\n",
    "plt.legend()"
   ]
  },
  {
   "cell_type": "code",
   "execution_count": 148,
   "metadata": {},
   "outputs": [
    {
     "name": "stdout",
     "output_type": "stream",
     "text": [
      "Train on 35700 samples, validate on 6300 samples\n",
      "Epoch 1/30\n",
      "35700/35700 [==============================] - 1s 15us/sample - loss: 0.0613 - accuracy: 0.9831 - val_loss: 0.1392 - val_accuracy: 0.9752s - loss: 0.0626 - accuracy: 0.98 - ETA: 0s - loss: 0.0619 - accuracy: \n",
      "Epoch 2/30\n",
      "35700/35700 [==============================] - 1s 17us/sample - loss: 0.0565 - accuracy: 0.9831 - val_loss: 0.1406 - val_accuracy: 0.9732\n",
      "Epoch 3/30\n",
      "35700/35700 [==============================] - 0s 14us/sample - loss: 0.0571 - accuracy: 0.9836 - val_loss: 0.1324 - val_accuracy: 0.9729\n",
      "Epoch 4/30\n",
      "35700/35700 [==============================] - 0s 14us/sample - loss: 0.0579 - accuracy: 0.9835 - val_loss: 0.1355 - val_accuracy: 0.9725\n",
      "Epoch 5/30\n",
      "35700/35700 [==============================] - 1s 14us/sample - loss: 0.0571 - accuracy: 0.9832 - val_loss: 0.1529 - val_accuracy: 0.9724\n",
      "Epoch 6/30\n",
      "35700/35700 [==============================] - 0s 13us/sample - loss: 0.0528 - accuracy: 0.9847 - val_loss: 0.1417 - val_accuracy: 0.9733\n",
      "Epoch 7/30\n",
      "35700/35700 [==============================] - 1s 14us/sample - loss: 0.0540 - accuracy: 0.9848 - val_loss: 0.1445 - val_accuracy: 0.9735\n",
      "Epoch 8/30\n",
      "35700/35700 [==============================] - 1s 15us/sample - loss: 0.0528 - accuracy: 0.9847 - val_loss: 0.1371 - val_accuracy: 0.9744\n",
      "Epoch 9/30\n",
      "35700/35700 [==============================] - 1s 14us/sample - loss: 0.0561 - accuracy: 0.9841 - val_loss: 0.1531 - val_accuracy: 0.9722\n",
      "Epoch 10/30\n",
      "35700/35700 [==============================] - 0s 14us/sample - loss: 0.0495 - accuracy: 0.9859 - val_loss: 0.1487 - val_accuracy: 0.9729\n",
      "Epoch 11/30\n",
      "35700/35700 [==============================] - 0s 14us/sample - loss: 0.0491 - accuracy: 0.9855 - val_loss: 0.1499 - val_accuracy: 0.9729\n",
      "Epoch 12/30\n",
      "35700/35700 [==============================] - 0s 14us/sample - loss: 0.0521 - accuracy: 0.9855 - val_loss: 0.1535 - val_accuracy: 0.9721\n",
      "Epoch 13/30\n",
      "35700/35700 [==============================] - 0s 14us/sample - loss: 0.0512 - accuracy: 0.9854 - val_loss: 0.1537 - val_accuracy: 0.9716\n",
      "Epoch 14/30\n",
      "35700/35700 [==============================] - 0s 14us/sample - loss: 0.0497 - accuracy: 0.9856 - val_loss: 0.1574 - val_accuracy: 0.9722\n",
      "Epoch 15/30\n",
      "35700/35700 [==============================] - 1s 16us/sample - loss: 0.0507 - accuracy: 0.9852 - val_loss: 0.1584 - val_accuracy: 0.9706\n",
      "Epoch 16/30\n",
      "35700/35700 [==============================] - 0s 14us/sample - loss: 0.0500 - accuracy: 0.9858 - val_loss: 0.1485 - val_accuracy: 0.9719\n",
      "Epoch 17/30\n",
      "35700/35700 [==============================] - 0s 14us/sample - loss: 0.0455 - accuracy: 0.9861 - val_loss: 0.1551 - val_accuracy: 0.9716\n",
      "Epoch 18/30\n",
      "35700/35700 [==============================] - 0s 14us/sample - loss: 0.0473 - accuracy: 0.9859 - val_loss: 0.1570 - val_accuracy: 0.9719\n",
      "Epoch 19/30\n",
      "35700/35700 [==============================] - 1s 19us/sample - loss: 0.0481 - accuracy: 0.9862 - val_loss: 0.1495 - val_accuracy: 0.9727\n",
      "Epoch 20/30\n",
      "35700/35700 [==============================] - 1s 15us/sample - loss: 0.0440 - accuracy: 0.9869 - val_loss: 0.1612 - val_accuracy: 0.9725\n",
      "Epoch 21/30\n",
      "35700/35700 [==============================] - 1s 16us/sample - loss: 0.0440 - accuracy: 0.9876 - val_loss: 0.1613 - val_accuracy: 0.9724\n",
      "Epoch 22/30\n",
      "35700/35700 [==============================] - 1s 16us/sample - loss: 0.0427 - accuracy: 0.9886 - val_loss: 0.1653 - val_accuracy: 0.9725\n",
      "Epoch 23/30\n",
      "35700/35700 [==============================] - 1s 15us/sample - loss: 0.0451 - accuracy: 0.9868 - val_loss: 0.1548 - val_accuracy: 0.9729\n",
      "Epoch 24/30\n",
      "35700/35700 [==============================] - 1s 22us/sample - loss: 0.0476 - accuracy: 0.9862 - val_loss: 0.1687 - val_accuracy: 0.9708\n",
      "Epoch 25/30\n",
      "35700/35700 [==============================] - 1s 23us/sample - loss: 0.0477 - accuracy: 0.9871 - val_loss: 0.1529 - val_accuracy: 0.9735\n",
      "Epoch 26/30\n",
      "35700/35700 [==============================] - 1s 17us/sample - loss: 0.0434 - accuracy: 0.9869 - val_loss: 0.1663 - val_accuracy: 0.9719\n",
      "Epoch 27/30\n",
      "35700/35700 [==============================] - 1s 14us/sample - loss: 0.0426 - accuracy: 0.9879 - val_loss: 0.1578 - val_accuracy: 0.9735\n",
      "Epoch 28/30\n",
      "35700/35700 [==============================] - 1s 15us/sample - loss: 0.0432 - accuracy: 0.9875 - val_loss: 0.1486 - val_accuracy: 0.9730\n",
      "Epoch 29/30\n",
      "35700/35700 [==============================] - 1s 14us/sample - loss: 0.0461 - accuracy: 0.9864 - val_loss: 0.1624 - val_accuracy: 0.9706\n",
      "Epoch 30/30\n",
      "35700/35700 [==============================] - 1s 17us/sample - loss: 0.0433 - accuracy: 0.9869 - val_loss: 0.1649 - val_accuracy: 0.9719\n"
     ]
    }
   ],
   "source": [
    "hist2 = model_dropout.fit( X_train,\n",
    "                    y_train, \n",
    "                    batch_size=256,\n",
    "                    validation_data=(X_test, y_test),\n",
    "                    epochs=30,\n",
    "                    verbose=1)"
   ]
  },
  {
   "cell_type": "markdown",
   "metadata": {},
   "source": [
    "<h1> CNN</h1>"
   ]
  },
  {
   "cell_type": "code",
   "execution_count": 123,
   "metadata": {},
   "outputs": [],
   "source": [
    "cnn_model = Sequential()"
   ]
  },
  {
   "cell_type": "code",
   "execution_count": 124,
   "metadata": {},
   "outputs": [],
   "source": [
    "cnn_model.add(Input(shape=(28, 28, 1)))\n",
    "cnn_model.add(Conv2D(filters = 6,            \n",
    "                     kernel_size = 3,       \n",
    "                     activation='relu'))\n",
    "cnn_model.add(MaxPooling2D(pool_size=(2,2)))\n",
    "cnn_model.add(Conv2D(16,\n",
    "                     kernel_size=3,\n",
    "                     activation='relu'))\n",
    "cnn_model.add(MaxPooling2D(pool_size=(2,2)))\n",
    "\n",
    "cnn_model.add(Flatten())\n",
    "cnn_model.add(Dense(128, activation='relu'))\n",
    "\n",
    "cnn_model.add(Dense(len(lb.classes_), activation='softmax'))"
   ]
  },
  {
   "cell_type": "code",
   "execution_count": 125,
   "metadata": {},
   "outputs": [
    {
     "name": "stdout",
     "output_type": "stream",
     "text": [
      "Model: \"sequential_7\"\n",
      "_________________________________________________________________\n",
      "Layer (type)                 Output Shape              Param #   \n",
      "=================================================================\n",
      "conv2d (Conv2D)              (None, 26, 26, 6)         60        \n",
      "_________________________________________________________________\n",
      "max_pooling2d (MaxPooling2D) (None, 13, 13, 6)         0         \n",
      "_________________________________________________________________\n",
      "conv2d_1 (Conv2D)            (None, 11, 11, 16)        880       \n",
      "_________________________________________________________________\n",
      "max_pooling2d_1 (MaxPooling2 (None, 5, 5, 16)          0         \n",
      "_________________________________________________________________\n",
      "flatten_6 (Flatten)          (None, 400)               0         \n",
      "_________________________________________________________________\n",
      "dense_15 (Dense)             (None, 128)               51328     \n",
      "_________________________________________________________________\n",
      "dense_16 (Dense)             (None, 10)                1290      \n",
      "=================================================================\n",
      "Total params: 53,558\n",
      "Trainable params: 53,558\n",
      "Non-trainable params: 0\n",
      "_________________________________________________________________\n"
     ]
    }
   ],
   "source": [
    "cnn_model.summary()"
   ]
  },
  {
   "cell_type": "code",
   "execution_count": 126,
   "metadata": {},
   "outputs": [
    {
     "name": "stdout",
     "output_type": "stream",
     "text": [
      "Train on 35700 samples, validate on 6300 samples\n",
      "Epoch 1/1000\n",
      "35700/35700 [==============================] - 10s 273us/sample - loss: 0.0436 - accuracy: 0.9849 - val_loss: 0.0194 - val_accuracy: 0.9933\n",
      "Epoch 2/1000\n",
      "35700/35700 [==============================] - 9s 260us/sample - loss: 0.0145 - accuracy: 0.9952 - val_loss: 0.0143 - val_accuracy: 0.9950\n",
      "Epoch 3/1000\n",
      "35700/35700 [==============================] - 10s 289us/sample - loss: 0.0106 - accuracy: 0.9963 - val_loss: 0.0129 - val_accuracy: 0.9957\n",
      "Epoch 4/1000\n",
      "35700/35700 [==============================] - 10s 288us/sample - loss: 0.0082 - accuracy: 0.9972 - val_loss: 0.0113 - val_accuracy: 0.9967\n",
      "Epoch 5/1000\n",
      "35700/35700 [==============================] - 9s 240us/sample - loss: 0.0067 - accuracy: 0.9978 - val_loss: 0.0104 - val_accuracy: 0.9968\n",
      "Epoch 6/1000\n",
      "35700/35700 [==============================] - 9s 244us/sample - loss: 0.0055 - accuracy: 0.9981 - val_loss: 0.0090 - val_accuracy: 0.9971\n",
      "Epoch 7/1000\n",
      "35700/35700 [==============================] - 10s 277us/sample - loss: 0.0042 - accuracy: 0.9986 - val_loss: 0.0109 - val_accuracy: 0.9968\n",
      "Epoch 8/1000\n",
      "35700/35700 [==============================] - 10s 284us/sample - loss: 0.0039 - accuracy: 0.9987 - val_loss: 0.0101 - val_accuracy: 0.9973\n",
      "Epoch 9/1000\n",
      "35700/35700 [==============================] - 11s 304us/sample - loss: 0.0031 - accuracy: 0.9990 - val_loss: 0.0113 - val_accuracy: 0.9972\n",
      "Epoch 10/1000\n",
      "35700/35700 [==============================] - 10s 290us/sample - loss: 0.0024 - accuracy: 0.9992 - val_loss: 0.0120 - val_accuracy: 0.9969\n",
      "Epoch 11/1000\n",
      "35700/35700 [==============================] - 10s 293us/sample - loss: 0.0020 - accuracy: 0.9993 - val_loss: 0.0117 - val_accuracy: 0.9971\n",
      "Epoch 12/1000\n",
      "35700/35700 [==============================] - 9s 255us/sample - loss: 0.0021 - accuracy: 0.9993 - val_loss: 0.0132 - val_accuracy: 0.9968\n",
      "Epoch 13/1000\n",
      "35700/35700 [==============================] - 10s 270us/sample - loss: 0.0019 - accuracy: 0.9994 - val_loss: 0.0120 - val_accuracy: 0.9972\n",
      "Epoch 14/1000\n",
      "35700/35700 [==============================] - 10s 292us/sample - loss: 0.0013 - accuracy: 0.9995 - val_loss: 0.0147 - val_accuracy: 0.9966\n",
      "Epoch 15/1000\n",
      "35700/35700 [==============================] - 10s 276us/sample - loss: 0.0013 - accuracy: 0.9995 - val_loss: 0.0127 - val_accuracy: 0.9970\n",
      "Epoch 16/1000\n",
      "35700/35700 [==============================] - 9s 250us/sample - loss: 0.0012 - accuracy: 0.9996 - val_loss: 0.0129 - val_accuracy: 0.9972\n",
      "Epoch 17/1000\n",
      "35700/35700 [==============================] - 9s 248us/sample - loss: 0.0012 - accuracy: 0.9996 - val_loss: 0.0177 - val_accuracy: 0.9966\n",
      "Epoch 18/1000\n",
      "35700/35700 [==============================] - 9s 254us/sample - loss: 0.0012 - accuracy: 0.9996 - val_loss: 0.0148 - val_accuracy: 0.9970\n"
     ]
    }
   ],
   "source": [
    "cnn_model.compile(loss='binary_crossentropy', optimizer='adam', metrics=['accuracy'])\n",
    "\n",
    "early_stop = EarlyStopping(monitor='val_accuracy', min_delta=0, patience=10)\n",
    "\n",
    "hist3 = cnn_model.fit(\n",
    "    X_train,\n",
    "    y_train,\n",
    "    validation_data=(X_test, y_test),\n",
    "    epochs=1000,\n",
    "    batch_size=None,\n",
    "    callbacks=[early_stop]\n",
    ")"
   ]
  },
  {
   "cell_type": "code",
   "execution_count": 151,
   "metadata": {},
   "outputs": [
    {
     "data": {
      "text/plain": [
       "<matplotlib.legend.Legend at 0x1931f4ba8>"
      ]
     },
     "execution_count": 151,
     "metadata": {},
     "output_type": "execute_result"
    },
    {
     "data": {
      "image/png": "[encoded data removed]",
      "text/plain": [
       "<Figure size 432x288 with 1 Axes>"
      ]
     },
     "metadata": {
      "needs_background": "light"
     },
     "output_type": "display_data"
    }
   ],
   "source": [
    "plt.plot(hist2.history['val_accuracy'], label='val')\n",
    "plt.plot(hist2.history['accuracy'], label='train')\n",
    "plt.legend()"
   ]
  },
  {
   "cell_type": "code",
   "execution_count": 150,
   "metadata": {},
   "outputs": [
    {
     "name": "stdout",
     "output_type": "stream",
     "text": [
      "Train on 35700 samples, validate on 6300 samples\n",
      "Epoch 1/15\n",
      "35700/35700 [==============================] - 10s 283us/sample - loss: 1.5122e-04 - accuracy: 1.0000 - val_loss: 0.0154 - val_accuracy: 0.9976\n",
      "Epoch 2/15\n",
      "35700/35700 [==============================] - 10s 279us/sample - loss: 9.1618e-04 - accuracy: 0.9996 - val_loss: 0.0195 - val_accuracy: 0.9971\n",
      "Epoch 3/15\n",
      "35700/35700 [==============================] - 10s 281us/sample - loss: 4.4778e-04 - accuracy: 0.9998 - val_loss: 0.0172 - val_accuracy: 0.9972\n",
      "Epoch 4/15\n",
      "35700/35700 [==============================] - 10s 288us/sample - loss: 6.1725e-04 - accuracy: 0.9998 - val_loss: 0.0180 - val_accuracy: 0.9972\n",
      "Epoch 5/15\n",
      "35700/35700 [==============================] - 10s 287us/sample - loss: 2.4593e-04 - accuracy: 0.9999 - val_loss: 0.0162 - val_accuracy: 0.9975\n",
      "Epoch 6/15\n",
      "35700/35700 [==============================] - 10s 283us/sample - loss: 6.3994e-04 - accuracy: 0.9998 - val_loss: 0.0203 - val_accuracy: 0.9969\n",
      "Epoch 7/15\n",
      "35700/35700 [==============================] - 10s 289us/sample - loss: 5.8952e-04 - accuracy: 0.9998 - val_loss: 0.0186 - val_accuracy: 0.9974\n",
      "Epoch 8/15\n",
      "35700/35700 [==============================] - 10s 285us/sample - loss: 5.3111e-04 - accuracy: 0.9998 - val_loss: 0.0169 - val_accuracy: 0.9973\n",
      "Epoch 9/15\n",
      "35700/35700 [==============================] - 10s 286us/sample - loss: 4.2143e-04 - accuracy: 0.9999 - val_loss: 0.0189 - val_accuracy: 0.9975\n",
      "Epoch 10/15\n",
      "35700/35700 [==============================] - 10s 281us/sample - loss: 3.0529e-04 - accuracy: 0.9999 - val_loss: 0.0187 - val_accuracy: 0.9973\n",
      "Epoch 11/15\n",
      "35700/35700 [==============================] - 10s 278us/sample - loss: 6.6725e-04 - accuracy: 0.9997 - val_loss: 0.0195 - val_accuracy: 0.9975\n",
      "Epoch 12/15\n",
      "35700/35700 [==============================] - 10s 286us/sample - loss: 3.4292e-04 - accuracy: 0.9999 - val_loss: 0.0177 - val_accuracy: 0.9974\n",
      "Epoch 13/15\n",
      "35700/35700 [==============================] - 10s 282us/sample - loss: 1.3502e-05 - accuracy: 1.0000 - val_loss: 0.0176 - val_accuracy: 0.9977\n",
      "Epoch 14/15\n",
      "35700/35700 [==============================] - 11s 299us/sample - loss: 2.6037e-06 - accuracy: 1.0000 - val_loss: 0.0177 - val_accuracy: 0.9977\n",
      "Epoch 15/15\n",
      "35700/35700 [==============================] - 11s 304us/sample - loss: 0.0016 - accuracy: 0.9996 - val_loss: 0.0173 - val_accuracy: 0.9973\n"
     ]
    }
   ],
   "source": [
    "hist3 = cnn_model.fit(\n",
    "    X_train,\n",
    "    y_train,\n",
    "    validation_data=(X_test, y_test),\n",
    "    epochs=15,\n",
    "    batch_size=None,\n",
    "    \n",
    ")"
   ]
  },
  {
   "cell_type": "code",
   "execution_count": 130,
   "metadata": {},
   "outputs": [],
   "source": [
    "test_data=pd.read_csv(\"test.csv\")"
   ]
  },
  {
   "cell_type": "code",
   "execution_count": 131,
   "metadata": {},
   "outputs": [],
   "source": [
    "test_data=scaler.transform(test_data)"
   ]
  },
  {
   "cell_type": "code",
   "execution_count": 132,
   "metadata": {},
   "outputs": [],
   "source": [
    "test_data = test_data.reshape(test_data.shape[0], 28, 28, 1)"
   ]
  },
  {
   "cell_type": "code",
   "execution_count": 142,
   "metadata": {},
   "outputs": [],
   "source": [
    "y_hat=cnn_model.predict(test_data)"
   ]
  },
  {
   "cell_type": "code",
   "execution_count": 134,
   "metadata": {},
   "outputs": [],
   "source": [
    "data=pd.read_csv(\"train.csv\")"
   ]
  },
  {
   "cell_type": "code",
   "execution_count": 135,
   "metadata": {},
   "outputs": [],
   "source": [
    "new=data['label']"
   ]
  },
  {
   "cell_type": "code",
   "execution_count": 136,
   "metadata": {},
   "outputs": [],
   "source": [
    "new=lb.fit_transform(new)"
   ]
  },
  {
   "cell_type": "code",
   "execution_count": 163,
   "metadata": {},
   "outputs": [],
   "source": [
    "res=pd.DataFrame(lb.inverse_transform(np.array(y_hat)))"
   ]
  },
  {
   "cell_type": "code",
   "execution_count": 169,
   "metadata": {},
   "outputs": [],
   "source": [
    "res=res.reset_index()"
   ]
  },
  {
   "cell_type": "code",
   "execution_count": 170,
   "metadata": {},
   "outputs": [],
   "source": [
    "\n",
    "res.columns=['ImageId',\"Label\"]"
   ]
  },
  {
   "cell_type": "code",
   "execution_count": 176,
   "metadata": {},
   "outputs": [
    {
     "data": {
      "text/plain": [
       "array([[0., 0., 1., ..., 0., 0., 0.],\n",
       "       [1., 0., 0., ..., 0., 0., 0.],\n",
       "       [0., 0., 0., ..., 0., 0., 1.],\n",
       "       ...,\n",
       "       [0., 0., 0., ..., 0., 0., 0.],\n",
       "       [0., 0., 0., ..., 0., 0., 1.],\n",
       "       [0., 0., 1., ..., 0., 0., 0.]], dtype=float32)"
      ]
     },
     "execution_count": 176,
     "metadata": {},
     "output_type": "execute_result"
    }
   ],
   "source": [
    "cnn_model.predict_proba(test_data)"
   ]
  },
  {
   "cell_type": "code",
   "execution_count": 173,
   "metadata": {
    "scrolled": true
   },
   "outputs": [],
   "source": [
    "res['ImageId']=res['ImageId']+1"
   ]
  },
  {
   "cell_type": "code",
   "execution_count": 174,
   "metadata": {},
   "outputs": [
    {
     "data": {
      "text/html": [
       "<div>\n",
       "<style scoped>\n",
       "    .dataframe tbody tr th:only-of-type {\n",
       "        vertical-align: middle;\n",
       "    }\n",
       "\n",
       "    .dataframe tbody tr th {\n",
       "        vertical-align: top;\n",
       "    }\n",
       "\n",
       "    .dataframe thead th {\n",
       "        text-align: right;\n",
       "    }\n",
       "</style>\n",
       "<table border=\"1\" class=\"dataframe\">\n",
       "  <thead>\n",
       "    <tr style=\"text-align: right;\">\n",
       "      <th></th>\n",
       "      <th>ImageId</th>\n",
       "      <th>Label</th>\n",
       "    </tr>\n",
       "  </thead>\n",
       "  <tbody>\n",
       "    <tr>\n",
       "      <th>0</th>\n",
       "      <td>1</td>\n",
       "      <td>2</td>\n",
       "    </tr>\n",
       "    <tr>\n",
       "      <th>1</th>\n",
       "      <td>2</td>\n",
       "      <td>0</td>\n",
       "    </tr>\n",
       "    <tr>\n",
       "      <th>2</th>\n",
       "      <td>3</td>\n",
       "      <td>9</td>\n",
       "    </tr>\n",
       "    <tr>\n",
       "      <th>3</th>\n",
       "      <td>4</td>\n",
       "      <td>0</td>\n",
       "    </tr>\n",
       "    <tr>\n",
       "      <th>4</th>\n",
       "      <td>5</td>\n",
       "      <td>3</td>\n",
       "    </tr>\n",
       "    <tr>\n",
       "      <th>...</th>\n",
       "      <td>...</td>\n",
       "      <td>...</td>\n",
       "    </tr>\n",
       "    <tr>\n",
       "      <th>27995</th>\n",
       "      <td>27996</td>\n",
       "      <td>9</td>\n",
       "    </tr>\n",
       "    <tr>\n",
       "      <th>27996</th>\n",
       "      <td>27997</td>\n",
       "      <td>7</td>\n",
       "    </tr>\n",
       "    <tr>\n",
       "      <th>27997</th>\n",
       "      <td>27998</td>\n",
       "      <td>3</td>\n",
       "    </tr>\n",
       "    <tr>\n",
       "      <th>27998</th>\n",
       "      <td>27999</td>\n",
       "      <td>9</td>\n",
       "    </tr>\n",
       "    <tr>\n",
       "      <th>27999</th>\n",
       "      <td>28000</td>\n",
       "      <td>2</td>\n",
       "    </tr>\n",
       "  </tbody>\n",
       "</table>\n",
       "<p>28000 rows × 2 columns</p>\n",
       "</div>"
      ],
      "text/plain": [
       "       ImageId  Label\n",
       "0            1      2\n",
       "1            2      0\n",
       "2            3      9\n",
       "3            4      0\n",
       "4            5      3\n",
       "...        ...    ...\n",
       "27995    27996      9\n",
       "27996    27997      7\n",
       "27997    27998      3\n",
       "27998    27999      9\n",
       "27999    28000      2\n",
       "\n",
       "[28000 rows x 2 columns]"
      ]
     },
     "execution_count": 174,
     "metadata": {},
     "output_type": "execute_result"
    }
   ],
   "source": [
    "res"
   ]
  },
  {
   "cell_type": "code",
   "execution_count": 172,
   "metadata": {},
   "outputs": [],
   "source": [
    "res.to_csv(\"res.csv\", header=True, index=False)"
   ]
  }
 ],
 "metadata": {
  "kernelspec": {
   "display_name": "Python 3",
   "language": "python",
   "name": "python3"
  },
  "language_info": {
   "codemirror_mode": {
    "name": "ipython",
    "version": 3
   },
   "file_extension": ".py",
   "mimetype": "text/x-python",
   "name": "python",
   "nbconvert_exporter": "python",
   "pygments_lexer": "ipython3",
   "version": "3.6.9"
  }
 },
 "nbformat": 4,
 "nbformat_minor": 2
}
